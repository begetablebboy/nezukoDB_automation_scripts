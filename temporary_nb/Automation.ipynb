{
 "cells": [
  {
   "cell_type": "markdown",
   "metadata": {},
   "source": [
    "# Automation for Webserver, MySQL and MongoDB"
   ]
  },
  {
   "cell_type": "markdown",
   "metadata": {},
   "source": [
    "## Create 2 EC2 instances "
   ]
  },
  {
   "cell_type": "code",
   "execution_count": null,
   "metadata": {},
   "outputs": [],
   "source": [
    "import boto3\n",
    "import os\n",
    "import time\n",
    "from fabric import Connection\n",
    "from botocore.exceptions import ClientError\n",
    "ec2 = boto3.client('ec2')"
   ]
  },
  {
   "cell_type": "markdown",
   "metadata": {},
   "source": [
    "### 1. Functions"
   ]
  },
  {
   "cell_type": "code",
   "execution_count": null,
   "metadata": {},
   "outputs": [],
   "source": [
    "instance_ami = 'ami-061eb2b23f9f8839c'\n",
    "num_instance = 1\n",
    "tier = 't2.micro'\n",
    "key_pair = 'prodkey21'\n",
    "security_group_name = 'sum'\n",
    "security_desc = 'Security group for Mongo'"
   ]
  },
  {
   "cell_type": "code",
   "execution_count": null,
   "metadata": {},
   "outputs": [],
   "source": [
    "# AWS EC2 list instance images\n",
    "def list_images():\n",
    "    res = ec2.describe_images(Owners=['self'])\n",
    "    for img in res['Images']:\n",
    "        print(\"Name: \",img['Name'])\n",
    "        print(\"Image: \", img['ImageId'])\n",
    "        print(\"Description: \", img['Description'])\n",
    "        print(\"----\")"
   ]
  },
  {
   "cell_type": "code",
   "execution_count": null,
   "metadata": {},
   "outputs": [],
   "source": [
    "# AWS EC2 save instance image\n",
    "def save_instance(ins, name, desc='My new instance'):\n",
    "    res = ec2.create_image(InstanceId=ins, Name=name, Description=desc)\n",
    "    print(\"Created image: \",res['ImageId'])\n",
    "    print(\"Waiting for it to be available...\")\n",
    "\n",
    "    # wait for it to be available\n",
    "    available = 0\n",
    "    while (not available):\n",
    "        status = ec2.describe_images(ImageIds=[res['ImageId']])\n",
    "        img = status['Images'][0]\n",
    "        available = (img['State'] == 'available')\n",
    "        time.sleep(1)"
   ]
  },
  {
   "cell_type": "code",
   "execution_count": null,
   "metadata": {},
   "outputs": [],
   "source": [
    "# AWS EC2 create key-pair\n",
    "def create_key_pair(name):\n",
    "    response = ec2.create_key_pair(\n",
    "        KeyName=name\n",
    "    )\n",
    "    key = response['KeyMaterial']\n",
    "    f= open(name+\".pem\",\"w\")\n",
    "    f.write(key)\n",
    "    f.close\n",
    "    os.system('chmod 400 %s.pem' %name)\n",
    "    print('Key Pair %s Created' %name)\n",
    "    return response"
   ]
  },
  {
   "cell_type": "code",
   "execution_count": null,
   "metadata": {},
   "outputs": [],
   "source": [
    "# AWS EC2 delete key-pair\n",
    "def delete_key_pair(name):\n",
    "    ec2.delete_key_pair(KeyName=name)\n",
    "    os.remove(name+'.pem')\n",
    "    print('Key Pair %s Deleted' %name)"
   ]
  },
  {
   "cell_type": "code",
   "execution_count": null,
   "metadata": {},
   "outputs": [],
   "source": [
    "# AWS EC2 create security group\n",
    "def create_security_group(name, description, ip_permissions):\n",
    "    response = ec2.describe_vpcs()\n",
    "    vpc_id = response.get('Vpcs', [{}])[0].get('VpcId', '')\n",
    "\n",
    "    response = ec2.create_security_group(GroupName=name,\n",
    "                                         Description=description,\n",
    "                                         VpcId=vpc_id)\n",
    "    security_group_id = response['GroupId']\n",
    "    print('Security Group Created %s in vpc %s.' % (security_group_id, vpc_id))\n",
    "\n",
    "    data = ec2.authorize_security_group_ingress(\n",
    "        GroupId=security_group_id,\n",
    "        IpPermissions=ip_permissions)\n",
    "    print('Ingress Successfully Set %s' %data)\n",
    "    return security_group_id"
   ]
  },
  {
   "cell_type": "code",
   "execution_count": null,
   "metadata": {},
   "outputs": [],
   "source": [
    "# AWS EC2 remove Security group\n",
    "def remove_security_group_permissions(security_group_id, ip_permissions):\n",
    "    data = ec2.revoke_security_group_ingress(\n",
    "        GroupId=security_group_id,\n",
    "        IpPermissions=ip_permissions)\n",
    "    print('Ingress Successfully removed %s' %data)\n",
    "    return security_group_id"
   ]
  },
  {
   "cell_type": "code",
   "execution_count": null,
   "metadata": {},
   "outputs": [],
   "source": [
    "# AWS EC2 set Security group permissions\n",
    "def set_security_group_permissions(security_group_id, ip_permissions):\n",
    "    data = ec2.authorize_security_group_ingress(\n",
    "        GroupId=security_group_id,\n",
    "        IpPermissions=ip_permissions)\n",
    "    print('Ingress Successfully Set %s' %data)\n",
    "    return security_group_id"
   ]
  },
  {
   "cell_type": "code",
   "execution_count": null,
   "metadata": {},
   "outputs": [],
   "source": [
    "# AWS EC2 delete security group\n",
    "def delete_security_group(security_group_id):\n",
    "    response = ec2.delete_security_group(GroupId=security_group_id)\n",
    "    print('Security Group %s Deleted' %security_group_id)"
   ]
  },
  {
   "cell_type": "code",
   "execution_count": null,
   "metadata": {},
   "outputs": [],
   "source": [
    "# AWS EC2 create instances\n",
    "def create_instances(image, maxCount, instanceType, key, groupID):\n",
    "    instances = ec2.run_instances(\n",
    "        ImageId=image,\n",
    "        MinCount=1,\n",
    "        MaxCount=maxCount,\n",
    "        InstanceType=instanceType,\n",
    "        KeyName=key,\n",
    "        SecurityGroupIds=[groupID]\n",
    "    )\n",
    "    instance_list = []\n",
    "    for i in instances['Instances']:\n",
    "        instance_list.append(i['InstanceId'])\n",
    "    \n",
    "    print('Instances Created %s' %instance_list)\n",
    "    return instance_list"
   ]
  },
  {
   "cell_type": "code",
   "execution_count": null,
   "metadata": {},
   "outputs": [],
   "source": [
    "# AWS EC2 list instances\n",
    "def list_ec2_instances():\n",
    "    instances = {}\n",
    "    res = ec2.describe_instances()\n",
    "    for r in res['Reservations']:\n",
    "        for ins in r['Instances']:\n",
    "            if ins['State']['Name'] == 'running' or ins['State']['Name'] == 'pending':\n",
    "                instances[ins['InstanceId']] = ins['PublicIpAddress']\n",
    "    print('List of active Instances %s' %instances)\n",
    "    return instances"
   ]
  },
  {
   "cell_type": "code",
   "execution_count": null,
   "metadata": {},
   "outputs": [],
   "source": [
    "# AWS EC2 terminate instances\n",
    "def terminate_instances(instances):\n",
    "    response = ec2.terminate_instances(\n",
    "        InstanceIds=instances\n",
    "    )\n",
    "    print('Instances Deleted %s' %instances)\n",
    "    return response"
   ]
  },
  {
   "cell_type": "markdown",
   "metadata": {},
   "source": [
    "### 2. Generate Key pair "
   ]
  },
  {
   "cell_type": "code",
   "execution_count": null,
   "metadata": {},
   "outputs": [],
   "source": [
    "# generate the new key pair\n",
    "# create_key_pair(key_pair)"
   ]
  },
  {
   "cell_type": "markdown",
   "metadata": {},
   "source": [
    "## Set up Ubuntu Node for EC2 instance"
   ]
  },
  {
   "cell_type": "markdown",
   "metadata": {},
   "source": [
    "### 1. Set up Security group "
   ]
  },
  {
   "cell_type": "code",
   "execution_count": null,
   "metadata": {},
   "outputs": [],
   "source": [
    "# set up permissions for the new security group for the instance/node\n",
    "node_ip_permissions = [{'IpProtocol': 'tcp',\n",
    "                   'FromPort': 22,\n",
    "                   'ToPort': 22,\n",
    "                   'IpRanges': [{\n",
    "                       'CidrIp': '0.0.0.0/0',\n",
    "                       'Description': 'SSH'}]},\n",
    "                  {'IpProtocol': '-1',\n",
    "                   'IpRanges': [{\n",
    "                       'CidrIp': '0.0.0.0/0',\n",
    "                       'Description': 'All'}]},\n",
    "                  {'IpProtocol': 'tcp',\n",
    "                   'FromPort': 27017,\n",
    "                   'ToPort': 27017,\n",
    "                   'IpRanges': [{\n",
    "                       'CidrIp':'0.0.0.0/0',\n",
    "                       'Description': 'MongoDB'}]}]"
   ]
  },
  {
   "cell_type": "code",
   "execution_count": null,
   "metadata": {},
   "outputs": [],
   "source": [
    "# create the security group using the previously made permissions\n",
    "node_groupID = create_security_group(security_group_name, security_desc, node_ip_permissions)\n",
    "node_groupID"
   ]
  },
  {
   "cell_type": "code",
   "execution_count": null,
   "metadata": {},
   "outputs": [],
   "source": [
    "# create a new single instance\n",
    "# we are using the ubuntu AMI for this and using t2.medium\n",
    "instance_node_list = create_instances(instance_ami, num_instance, tier, key_pair, node_groupID)\n",
    "instance_node = instance_node_list[0]\n",
    "instance_node"
   ]
  },
  {
   "cell_type": "code",
   "execution_count": null,
   "metadata": {},
   "outputs": [],
   "source": [
    "# get the public IP of the instance\n",
    "print('Creating EC2 Instance...')\n",
    "time.sleep(5)\n",
    "instance_dic = list_ec2_instances()\n",
    "node_ip = instance_dic[instance_node]\n",
    "node_ip"
   ]
  },
  {
   "cell_type": "markdown",
   "metadata": {},
   "source": [
    "## A. Setting up Metadata"
   ]
  },
  {
   "cell_type": "code",
   "execution_count": null,
   "metadata": {},
   "outputs": [],
   "source": [
    "# Installing Mongo into EC2 instance\n",
    "print('EC2 instance rebooting, please wait...')\n",
    "print('Approx. waiting time: 2-5 mins')\n",
    "time.sleep(50)\n",
    "mongo_ip = '22.22.222' # for example\n",
    "name_of_db = 'nezukodb'\n",
    "mongo_url = f'mongodb://{mongo_ip}' # insert mongo url here\n",
    "\n",
    "# write to your .env file\n",
    "environment_file = open(\".env\", 'w')\n",
    "\n",
    "environment_file.write(f'database_name = {name_of_db}\\n')\n",
    "environment_file.write(f'mongo_url = {mongo_url}\\n')\n",
    "\n",
    "environment_file.close()\n",
    "\n",
    "\n",
    "c.sudo('apt-get install gnupg')\n",
    "c.run('wget -qO - https://www.mongodb.org/static/pgp/server-4.2.asc | sudo apt-key add -')\n",
    "c.run('echo \"deb [ arch=amd64 ] https://repo.mongodb.org/apt/ubuntu bionic/mongodb-org/4.2 multiverse\" | sudo tee /etc/apt/sources.list.d/mongodb-org-4.2.list')\n",
    "c.sudo('apt-get update')\n",
    "c.sudo('apt-get install -y mongodb-org')\n",
    "c.sudo('service mongod start')\n",
    "\n",
    "# Transfer Metadata from S3 to the instance\n",
    "c.run('wget https://dbds-kindle-reviews.s3-ap-southeast-1.amazonaws.com/metadata.bson')\n",
    "c.run(f'mongorestore --db {name_of_db} metadata.bson')\n",
    "c.sudo(\"sed -i 's/127.0.0.1/0.0.0.0/g' /etc/mongod.conf\")\n",
    "c.sudo('service mongod restart')"
   ]
  },
  {
   "cell_type": "markdown",
   "metadata": {},
   "source": [
    "## B. Setting up MySQL Kindle Reviews"
   ]
  },
  {
   "cell_type": "code",
   "execution_count": null,
   "metadata": {},
   "outputs": [],
   "source": [
    "print('Setting up EC2 instance, please wait...')\n",
    "print('Approx. waiting time: 2-5 mins')\n",
    "print('Note: You might wanna go to the toilet first or make a hot coffee while waiting.')\n",
    "time.sleep(50)\n",
    "c.sudo('apt-get update')\n",
    "c.sudo('apt-get -y dist-upgrade')"
   ]
  },
  {
   "cell_type": "code",
   "execution_count": null,
   "metadata": {},
   "outputs": [],
   "source": [
    "# rebooting\n",
    "\n",
    "try:\n",
    "    ec2.reboot_instances(InstanceIds=[instance_node], DryRun=True)\n",
    "except ClientError as e:\n",
    "    if 'DryRunOperation' not in str(e):\n",
    "        print(\"You don't have permission to reboot instances.\")\n",
    "        raise\n",
    "\n",
    "try:\n",
    "    response = ec2.reboot_instances(InstanceIds=[instance_node], DryRun=False)\n",
    "    print('Success', response)\n",
    "except ClientError as e:\n",
    "    print('Error', e)"
   ]
  },
  {
   "cell_type": "code",
   "execution_count": null,
   "metadata": {},
   "outputs": [],
   "source": [
    "# Installing MySQL\n",
    "\n",
    "print('EC2 instance rebooting, please wait...')\n",
    "print('Approx. waiting time: 2-5 mins')\n",
    "print('You know what to do.')\n",
    "time.sleep(50)\n",
    "c.sudo('apt-get -o StrictHostKeyChecking=no update')\n",
    "c.sudo('apt-get dist-upgrade')\n",
    "c.sudo('apt-get -y install mysql-server')"
   ]
  },
  {
   "cell_type": "code",
   "execution_count": null,
   "metadata": {},
   "outputs": [],
   "source": [
    "# Transfer kindle_reviews.csv from S3 to the instance\n",
    "\n",
    "c.run('mkdir data') \n",
    "c.run('cd data && wget -c https://dbds-kindle-reviews.s3-ap-southeast-1.amazonaws.com/kindlereviews.sql')"
   ]
  },
  {
   "cell_type": "code",
   "execution_count": null,
   "metadata": {},
   "outputs": [],
   "source": [
    "# Setting up kindle_reviews database\n",
    "\n",
    "c.sudo('mysql -e \"create database dbds\"')\n",
    "c.sudo('mysql -e \"' + 'GRANT ALL PRIVILEGES ON *.* TO' + \"'ubuntu'\" + 'IDENTIFIED BY' + \"'password';\" + '\"')\n",
    "c.run('cd data && mysql -u ubuntu -ppassword -D dbds -e \"source kindlereviews.sql\"')\n",
    "c.sudo(\"sed -i 's/bind-address/#bind-address/g' /etc/mysql/mysql.conf.d/mysqld.cnf\")\n",
    "c.sudo('service mysql restart')"
   ]
  },
  {
   "cell_type": "markdown",
   "metadata": {},
   "source": [
    "## C. Setting up Web Server "
   ]
  },
  {
   "cell_type": "code",
   "execution_count": null,
   "metadata": {},
   "outputs": [],
   "source": [
    "# Importing Project Repo from Github\n",
    "\n",
    "print('Setting up EC2 instance, please wait...')\n",
    "print('Approx. waiting time: 2-5 mins')\n",
    "time.sleep(65)\n",
    "c.run('mkdir dbds_project')\n",
    "c.run('cd dbds_project && git clone https://github.com/hello2508/Database.git')"
   ]
  },
  {
   "cell_type": "code",
   "execution_count": null,
   "metadata": {},
   "outputs": [],
   "source": [
    "# Downloading the necessary packages\n",
    "\n",
    "print('Updating...')\n",
    "c.sudo('apt-get update')\n",
    "c.sudo('apt-get install python3')"
   ]
  },
  {
   "cell_type": "code",
   "execution_count": null,
   "metadata": {},
   "outputs": [],
   "source": [
    "# Install prerequisites before installing pip3\n",
    "\n",
    "c.sudo('apt-get -y install build-essential libssl-dev libffi-dev python-dev')\n",
    "c.sudo('apt-get update')\n",
    "c.sudo('apt -y install python3-pip')"
   ]
  },
  {
   "cell_type": "code",
   "execution_count": null,
   "metadata": {},
   "outputs": [],
   "source": [
    "# Create a virtual environment through Python3-venv\n",
    "\n",
    "print('Creating virtual environment(webenv) for web server...')\n",
    "c.sudo('apt install -y python3-venv')\n",
    "c.run('cd dbds_project/Database/flaskproject && python3 -m venv webvenv')\n",
    "time.sleep(5)\n",
    "c.run('cd dbds_project/Database/flaskproject && source ./webvenv/bin/activate')"
   ]
  },
  {
   "cell_type": "code",
   "execution_count": null,
   "metadata": {},
   "outputs": [],
   "source": [
    "# Get dependencies\n",
    "\n",
    "print('Installing relevant packages...')\n",
    "c.sudo('pip3 install --upgrade setuptools')\n",
    "c.sudo('apt-get -y install python3-dev libmysqlclient-dev')\n",
    "c.sudo('apt -y install libmpc-dev')\n",
    "c.run('pip3 install --user gmpy2==2.1.0a2')\n",
    "c.run('cd dbds_project/Database && pip3 install -r requirements.txt')\n",
    "c.sudo('pip3 install pymongo')\n",
    "c.sudo('apt-get install python3-mysql.connector')"
   ]
  },
  {
   "cell_type": "code",
   "execution_count": null,
   "metadata": {},
   "outputs": [],
   "source": [
    "# Running Flask (ensure this is running in the correct directory)\n",
    "\n",
    "time.sleep(3)\n",
    "print('Setting up web server...')\n",
    "print('Once completed, pls go to localhost:8888 to see the Web server.')\n",
    "c.run('cd dbds_project/Database/flaskproject && export FLASK_APP=app.py')\n",
    "c.run('cd dbds_project/Database/flaskproject && export FLASK_ENV=development')\n",
    "c.run('cd dbds_project/Database/flaskproject && python3 app.py')"
   ]
  },
  {
   "cell_type": "code",
   "execution_count": null,
   "metadata": {},
   "outputs": [],
   "source": []
  },
  {
   "cell_type": "code",
   "execution_count": null,
   "metadata": {},
   "outputs": [],
   "source": []
  },
  {
   "cell_type": "code",
   "execution_count": null,
   "metadata": {},
   "outputs": [],
   "source": []
  },
  {
   "cell_type": "code",
   "execution_count": null,
   "metadata": {},
   "outputs": [],
   "source": []
  }
 ],
 "metadata": {
  "kernelspec": {
   "display_name": "Python 3",
   "language": "python",
   "name": "python3"
  },
  "language_info": {
   "codemirror_mode": {
    "name": "ipython",
    "version": 3
   },
   "file_extension": ".py",
   "mimetype": "text/x-python",
   "name": "python",
   "nbconvert_exporter": "python",
   "pygments_lexer": "ipython3",
   "version": "3.7.5"
  }
 },
 "nbformat": 4,
 "nbformat_minor": 2
}
