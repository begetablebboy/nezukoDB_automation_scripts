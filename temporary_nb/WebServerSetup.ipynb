{
 "cells": [
  {
   "cell_type": "markdown",
   "metadata": {},
   "source": [
    "# Setting up EC2 instances"
   ]
  },
  {
   "cell_type": "code",
   "execution_count": 1,
   "metadata": {},
   "outputs": [],
   "source": [
    "import boto3\n",
    "import os\n",
    "import time\n",
    "from fabric import Connection\n",
    "from botocore.exceptions import ClientError\n",
    "ec2 = boto3.client('ec2')"
   ]
  },
  {
   "cell_type": "markdown",
   "metadata": {},
   "source": [
    "### Functionalities"
   ]
  },
  {
   "cell_type": "code",
   "execution_count": 2,
   "metadata": {},
   "outputs": [],
   "source": [
    "instance_ami = 'ami-061eb2b23f9f8839c'\n",
    "num_instance = 1\n",
    "tier = 't2.micro'\n",
    "key_pair = 'prodkey19'\n",
    "security_group_name = 'sum1'\n",
    "security_desc = 'Security group for Web Server'\n"
   ]
  },
  {
   "cell_type": "code",
   "execution_count": 3,
   "metadata": {},
   "outputs": [],
   "source": [
    "# AWS EC2 list instance images\n",
    "def list_images():\n",
    "    res = ec2.describe_images(Owners=['self'])\n",
    "    for img in res['Images']:\n",
    "        print(\"Name: \",img['Name'])\n",
    "        print(\"Image: \", img['ImageId'])\n",
    "        print(\"Description: \", img['Description'])\n",
    "        print(\"----\")"
   ]
  },
  {
   "cell_type": "code",
   "execution_count": 4,
   "metadata": {},
   "outputs": [],
   "source": [
    "# AWS EC2 save instance image\n",
    "def save_instance(ins, name, desc='My new instance'):\n",
    "    res = ec2.create_image(InstanceId=ins, Name=name, Description=desc)\n",
    "    print(\"Created image: \",res['ImageId'])\n",
    "    print(\"Waiting for it to be available...\")\n",
    "\n",
    "    # wait for it to be available\n",
    "    available = 0\n",
    "    while (not available):\n",
    "        status = ec2.describe_images(ImageIds=[res['ImageId']])\n",
    "        img = status['Images'][0]\n",
    "        available = (img['State'] == 'available')\n",
    "        time.sleep(1)"
   ]
  },
  {
   "cell_type": "code",
   "execution_count": 5,
   "metadata": {},
   "outputs": [],
   "source": [
    "# AWS EC2 create key-pair\n",
    "def create_key_pair(name):\n",
    "    response = ec2.create_key_pair(\n",
    "        KeyName=name\n",
    "    )\n",
    "    key = response['KeyMaterial']\n",
    "    f= open(name+\".pem\",\"w\")\n",
    "    f.write(key)\n",
    "    f.close\n",
    "    os.system('chmod 400 %s.pem' %name)\n",
    "    print('Key Pair %s Created' %name)\n",
    "    return response"
   ]
  },
  {
   "cell_type": "code",
   "execution_count": 6,
   "metadata": {},
   "outputs": [],
   "source": [
    "# AWS EC2 delete key-pair\n",
    "def delete_key_pair(name):\n",
    "    ec2.delete_key_pair(KeyName=name)\n",
    "    os.remove(name+'.pem')\n",
    "    print('Key Pair %s Deleted' %name)"
   ]
  },
  {
   "cell_type": "code",
   "execution_count": 7,
   "metadata": {},
   "outputs": [],
   "source": [
    "# AWS EC2 create security group\n",
    "def create_security_group(name, description, ip_permissions):\n",
    "    response = ec2.describe_vpcs()\n",
    "    vpc_id = response.get('Vpcs', [{}])[0].get('VpcId', '')\n",
    "\n",
    "    response = ec2.create_security_group(GroupName=name,\n",
    "                                         Description=description,\n",
    "                                         VpcId=vpc_id)\n",
    "    security_group_id = response['GroupId']\n",
    "    print('Security Group Created %s in vpc %s.' % (security_group_id, vpc_id))\n",
    "\n",
    "    data = ec2.authorize_security_group_ingress(\n",
    "        GroupId=security_group_id,\n",
    "        IpPermissions=ip_permissions)\n",
    "    print('Ingress Successfully Set %s' %data)\n",
    "    return security_group_id"
   ]
  },
  {
   "cell_type": "code",
   "execution_count": 8,
   "metadata": {},
   "outputs": [],
   "source": [
    "def remove_security_group_permissions(security_group_id, ip_permissions):\n",
    "    data = ec2.revoke_security_group_ingress(\n",
    "        GroupId=security_group_id,\n",
    "        IpPermissions=ip_permissions)\n",
    "    print('Ingress Successfully removed %s' %data)\n",
    "    return security_group_id"
   ]
  },
  {
   "cell_type": "code",
   "execution_count": 9,
   "metadata": {},
   "outputs": [],
   "source": [
    "def set_security_group_permissions(security_group_id, ip_permissions):\n",
    "    data = ec2.authorize_security_group_ingress(\n",
    "        GroupId=security_group_id,\n",
    "        IpPermissions=ip_permissions)\n",
    "    print('Ingress Successfully Set %s' %data)\n",
    "    return security_group_id"
   ]
  },
  {
   "cell_type": "code",
   "execution_count": 10,
   "metadata": {},
   "outputs": [],
   "source": [
    "# AWS EC2 delete security group\n",
    "def delete_security_group(security_group_id):\n",
    "    response = ec2.delete_security_group(GroupId=security_group_id)\n",
    "    print('Security Group %s Deleted' %security_group_id)"
   ]
  },
  {
   "cell_type": "code",
   "execution_count": 11,
   "metadata": {},
   "outputs": [],
   "source": [
    "# AWS EC2 create instances\n",
    "def create_instances(image, maxCount, instanceType, key, groupID):\n",
    "    instances = ec2.run_instances(\n",
    "        ImageId=image,\n",
    "        MinCount=1,\n",
    "        MaxCount=maxCount,\n",
    "        InstanceType=instanceType,\n",
    "        KeyName=key,\n",
    "        SecurityGroupIds=[groupID]\n",
    "    )\n",
    "    instance_list = []\n",
    "    for i in instances['Instances']:\n",
    "        instance_list.append(i['InstanceId'])\n",
    "    \n",
    "    print('Instances Created %s' %instance_list)\n",
    "    return instance_list"
   ]
  },
  {
   "cell_type": "code",
   "execution_count": 12,
   "metadata": {},
   "outputs": [],
   "source": [
    "# AWS EC2 list instances\n",
    "def list_ec2_instances():\n",
    "    instances = {}\n",
    "    res = ec2.describe_instances()\n",
    "    for r in res['Reservations']:\n",
    "        for ins in r['Instances']:\n",
    "            if ins['State']['Name'] == 'running' or ins['State']['Name'] == 'pending':\n",
    "                instances[ins['InstanceId']] = ins['PublicIpAddress']\n",
    "    print('List of active Instances %s' %instances)\n",
    "    return instances"
   ]
  },
  {
   "cell_type": "code",
   "execution_count": 13,
   "metadata": {},
   "outputs": [],
   "source": [
    "# AWS EC2 terminate instances\n",
    "def terminate_instances(instances):\n",
    "    response = ec2.terminate_instances(\n",
    "        InstanceIds=instances\n",
    "    )\n",
    "    print('Instances Deleted %s' %instances)\n",
    "    return response"
   ]
  },
  {
   "cell_type": "markdown",
   "metadata": {},
   "source": [
    "### Create Key Pair"
   ]
  },
  {
   "cell_type": "code",
   "execution_count": 14,
   "metadata": {},
   "outputs": [],
   "source": [
    "# generate the new key pair\n",
    "# create_key_pair(key_pair)"
   ]
  },
  {
   "cell_type": "markdown",
   "metadata": {},
   "source": [
    "# Set up an Ubuntu node EC2 instance"
   ]
  },
  {
   "cell_type": "markdown",
   "metadata": {},
   "source": [
    "### First set up security group"
   ]
  },
  {
   "cell_type": "code",
   "execution_count": 15,
   "metadata": {},
   "outputs": [],
   "source": [
    "# set up permissions for the new security group for the instance/node\n",
    "node_ip_permissions = [{'IpProtocol': 'tcp',\n",
    "                   'FromPort': 22,\n",
    "                   'ToPort': 22,\n",
    "                   'IpRanges': [{\n",
    "                       'CidrIp': '0.0.0.0/0',\n",
    "                       'Description': 'SSH'}]},\n",
    "                  {'IpProtocol': 'tcp',\n",
    "                   'FromPort': 80,\n",
    "                   'ToPort': 80,\n",
    "                   'IpRanges': [{\n",
    "                       'CidrIp': '0.0.0.0/0',\n",
    "                       'Description': 'HTTP'}]},\n",
    "                  {'IpProtocol': 'tcp',\n",
    "                   'FromPort': 3000,\n",
    "                   'ToPort': 3000,\n",
    "                   'IpRanges': [{\n",
    "                       'CidrIp': '0.0.0.0/0',\n",
    "                       'Description': 'MySQL'}]}]\n",
    "\n"
   ]
  },
  {
   "cell_type": "code",
   "execution_count": 16,
   "metadata": {
    "scrolled": true
   },
   "outputs": [
    {
     "name": "stdout",
     "output_type": "stream",
     "text": [
      "Security Group Created sg-0fca978ad1156468b in vpc vpc-1d78777a.\n",
      "Ingress Successfully Set {'ResponseMetadata': {'RequestId': '352d9f6b-99b8-4d6d-b6c5-22cb5db8e707', 'HTTPStatusCode': 200, 'HTTPHeaders': {'content-type': 'text/xml;charset=UTF-8', 'content-length': '259', 'date': 'Mon, 23 Dec 2019 11:26:46 GMT', 'server': 'AmazonEC2'}, 'RetryAttempts': 0}}\n"
     ]
    },
    {
     "data": {
      "text/plain": [
       "'sg-0fca978ad1156468b'"
      ]
     },
     "execution_count": 16,
     "metadata": {},
     "output_type": "execute_result"
    }
   ],
   "source": [
    "# create the security group using the previously made permissions\n",
    "node_groupID = create_security_group(security_group_name, security_desc, node_ip_permissions)\n",
    "node_groupID"
   ]
  },
  {
   "cell_type": "markdown",
   "metadata": {},
   "source": [
    "Now to create the EC2 instance, in this case we try with 1 first by setting max count to 1"
   ]
  },
  {
   "cell_type": "code",
   "execution_count": 17,
   "metadata": {},
   "outputs": [
    {
     "name": "stdout",
     "output_type": "stream",
     "text": [
      "Instances Created ['i-005d43e809101b8b3']\n"
     ]
    },
    {
     "data": {
      "text/plain": [
       "'i-005d43e809101b8b3'"
      ]
     },
     "execution_count": 17,
     "metadata": {},
     "output_type": "execute_result"
    }
   ],
   "source": [
    "# create a new single instance\n",
    "# we are using the ubuntu AMI for this and using t2.medium\n",
    "instance_node_list = create_instances(instance_ami, num_instance, tier, key_pair, node_groupID)\n",
    "instance_node = instance_node_list[0]\n",
    "instance_node"
   ]
  },
  {
   "cell_type": "code",
   "execution_count": 18,
   "metadata": {},
   "outputs": [
    {
     "name": "stdout",
     "output_type": "stream",
     "text": [
      "List of active Instances {'i-064012ea2e13e959a': '18.141.90.224', 'i-0c028a47091f91dff': '54.169.70.231', 'i-005d43e809101b8b3': '52.77.251.91'}\n"
     ]
    },
    {
     "data": {
      "text/plain": [
       "'52.77.251.91'"
      ]
     },
     "execution_count": 18,
     "metadata": {},
     "output_type": "execute_result"
    }
   ],
   "source": [
    "# get the public IP of the instance\n",
    "time.sleep(5)\n",
    "instance_dic = list_ec2_instances()\n",
    "node_ip = instance_dic[instance_node]\n",
    "node_ip"
   ]
  },
  {
   "cell_type": "markdown",
   "metadata": {},
   "source": [
    "# Using Fabric Connection function to run commands on the EC2 instance"
   ]
  },
  {
   "cell_type": "code",
   "execution_count": 19,
   "metadata": {},
   "outputs": [],
   "source": [
    "c = Connection(\n",
    "    host=node_ip,\n",
    "    user=\"ubuntu\",\n",
    "    connect_kwargs={\n",
    "        \"key_filename\": key_pair + \".pem\",\n",
    "    },\n",
    ")\n"
   ]
  },
  {
   "cell_type": "markdown",
   "metadata": {},
   "source": [
    "# Setting up MySQL Kindle Reviews"
   ]
  },
  {
   "cell_type": "markdown",
   "metadata": {},
   "source": [
    "# Setting up Web Server "
   ]
  },
  {
   "cell_type": "code",
   "execution_count": 20,
   "metadata": {},
   "outputs": [],
   "source": [
    "# After creating EC2 instance"
   ]
  },
  {
   "cell_type": "code",
   "execution_count": 21,
   "metadata": {},
   "outputs": [
    {
     "name": "stdout",
     "output_type": "stream",
     "text": [
      "Setting up EC2 instance, please wait...\n",
      "Approx. waiting time: 2-5 mins\n"
     ]
    },
    {
     "ename": "BlockingIOError",
     "evalue": "[Errno 11] Resource temporarily unavailable",
     "output_type": "error",
     "traceback": [
      "\u001b[0;31m---------------------------------------------------------------------------\u001b[0m",
      "\u001b[0;31mBlockingIOError\u001b[0m                           Traceback (most recent call last)",
      "\u001b[0;32m<ipython-input-21-f96d617acc57>\u001b[0m in \u001b[0;36m<module>\u001b[0;34m\u001b[0m\n\u001b[1;32m      3\u001b[0m \u001b[0mprint\u001b[0m\u001b[0;34m(\u001b[0m\u001b[0;34m'Approx. waiting time: 2-5 mins'\u001b[0m\u001b[0;34m)\u001b[0m\u001b[0;34m\u001b[0m\u001b[0;34m\u001b[0m\u001b[0m\n\u001b[1;32m      4\u001b[0m \u001b[0mtime\u001b[0m\u001b[0;34m.\u001b[0m\u001b[0msleep\u001b[0m\u001b[0;34m(\u001b[0m\u001b[0;36m50\u001b[0m\u001b[0;34m)\u001b[0m\u001b[0;34m\u001b[0m\u001b[0;34m\u001b[0m\u001b[0m\n\u001b[0;32m----> 5\u001b[0;31m \u001b[0mc\u001b[0m\u001b[0;34m.\u001b[0m\u001b[0mrun\u001b[0m\u001b[0;34m(\u001b[0m\u001b[0;34m'mkdir dbds_project'\u001b[0m\u001b[0;34m)\u001b[0m\u001b[0;34m\u001b[0m\u001b[0;34m\u001b[0m\u001b[0m\n\u001b[0m\u001b[1;32m      6\u001b[0m \u001b[0mc\u001b[0m\u001b[0;34m.\u001b[0m\u001b[0mrun\u001b[0m\u001b[0;34m(\u001b[0m\u001b[0;34m'cd dbds_project && git clone https://github.com/hello2508/Database.git'\u001b[0m\u001b[0;34m)\u001b[0m\u001b[0;34m\u001b[0m\u001b[0;34m\u001b[0m\u001b[0m\n",
      "\u001b[0;32m<decorator-gen-3>\u001b[0m in \u001b[0;36mrun\u001b[0;34m(self, command, **kwargs)\u001b[0m\n",
      "\u001b[0;32m~/anaconda3/lib/python3.7/site-packages/fabric/connection.py\u001b[0m in \u001b[0;36mopens\u001b[0;34m(method, self, *args, **kwargs)\u001b[0m\n\u001b[1;32m     27\u001b[0m \u001b[0;34m@\u001b[0m\u001b[0mdecorator\u001b[0m\u001b[0;34m\u001b[0m\u001b[0;34m\u001b[0m\u001b[0m\n\u001b[1;32m     28\u001b[0m \u001b[0;32mdef\u001b[0m \u001b[0mopens\u001b[0m\u001b[0;34m(\u001b[0m\u001b[0mmethod\u001b[0m\u001b[0;34m,\u001b[0m \u001b[0mself\u001b[0m\u001b[0;34m,\u001b[0m \u001b[0;34m*\u001b[0m\u001b[0margs\u001b[0m\u001b[0;34m,\u001b[0m \u001b[0;34m**\u001b[0m\u001b[0mkwargs\u001b[0m\u001b[0;34m)\u001b[0m\u001b[0;34m:\u001b[0m\u001b[0;34m\u001b[0m\u001b[0;34m\u001b[0m\u001b[0m\n\u001b[0;32m---> 29\u001b[0;31m     \u001b[0mself\u001b[0m\u001b[0;34m.\u001b[0m\u001b[0mopen\u001b[0m\u001b[0;34m(\u001b[0m\u001b[0;34m)\u001b[0m\u001b[0;34m\u001b[0m\u001b[0;34m\u001b[0m\u001b[0m\n\u001b[0m\u001b[1;32m     30\u001b[0m     \u001b[0;32mreturn\u001b[0m \u001b[0mmethod\u001b[0m\u001b[0;34m(\u001b[0m\u001b[0mself\u001b[0m\u001b[0;34m,\u001b[0m \u001b[0;34m*\u001b[0m\u001b[0margs\u001b[0m\u001b[0;34m,\u001b[0m \u001b[0;34m**\u001b[0m\u001b[0mkwargs\u001b[0m\u001b[0;34m)\u001b[0m\u001b[0;34m\u001b[0m\u001b[0;34m\u001b[0m\u001b[0m\n\u001b[1;32m     31\u001b[0m \u001b[0;34m\u001b[0m\u001b[0m\n",
      "\u001b[0;32m~/anaconda3/lib/python3.7/site-packages/fabric/connection.py\u001b[0m in \u001b[0;36mopen\u001b[0;34m(self)\u001b[0m\n\u001b[1;32m    632\u001b[0m             \u001b[0;32mdel\u001b[0m \u001b[0mkwargs\u001b[0m\u001b[0;34m[\u001b[0m\u001b[0;34m\"key_filename\"\u001b[0m\u001b[0;34m]\u001b[0m\u001b[0;34m\u001b[0m\u001b[0;34m\u001b[0m\u001b[0m\n\u001b[1;32m    633\u001b[0m         \u001b[0;31m# Actually connect!\u001b[0m\u001b[0;34m\u001b[0m\u001b[0;34m\u001b[0m\u001b[0;34m\u001b[0m\u001b[0m\n\u001b[0;32m--> 634\u001b[0;31m         \u001b[0mself\u001b[0m\u001b[0;34m.\u001b[0m\u001b[0mclient\u001b[0m\u001b[0;34m.\u001b[0m\u001b[0mconnect\u001b[0m\u001b[0;34m(\u001b[0m\u001b[0;34m**\u001b[0m\u001b[0mkwargs\u001b[0m\u001b[0;34m)\u001b[0m\u001b[0;34m\u001b[0m\u001b[0;34m\u001b[0m\u001b[0m\n\u001b[0m\u001b[1;32m    635\u001b[0m         \u001b[0mself\u001b[0m\u001b[0;34m.\u001b[0m\u001b[0mtransport\u001b[0m \u001b[0;34m=\u001b[0m \u001b[0mself\u001b[0m\u001b[0;34m.\u001b[0m\u001b[0mclient\u001b[0m\u001b[0;34m.\u001b[0m\u001b[0mget_transport\u001b[0m\u001b[0;34m(\u001b[0m\u001b[0;34m)\u001b[0m\u001b[0;34m\u001b[0m\u001b[0;34m\u001b[0m\u001b[0m\n\u001b[1;32m    636\u001b[0m \u001b[0;34m\u001b[0m\u001b[0m\n",
      "\u001b[0;32m~/anaconda3/lib/python3.7/site-packages/paramiko/client.py\u001b[0m in \u001b[0;36mconnect\u001b[0;34m(self, hostname, port, username, password, pkey, key_filename, timeout, allow_agent, look_for_keys, compress, sock, gss_auth, gss_kex, gss_deleg_creds, gss_host, banner_timeout, auth_timeout, gss_trust_dns, passphrase, disabled_algorithms)\u001b[0m\n\u001b[1;32m    347\u001b[0m                         \u001b[0;32mexcept\u001b[0m\u001b[0;34m:\u001b[0m\u001b[0;34m\u001b[0m\u001b[0;34m\u001b[0m\u001b[0m\n\u001b[1;32m    348\u001b[0m                             \u001b[0;32mpass\u001b[0m\u001b[0;34m\u001b[0m\u001b[0;34m\u001b[0m\u001b[0m\n\u001b[0;32m--> 349\u001b[0;31m                     \u001b[0mretry_on_signal\u001b[0m\u001b[0;34m(\u001b[0m\u001b[0;32mlambda\u001b[0m\u001b[0;34m:\u001b[0m \u001b[0msock\u001b[0m\u001b[0;34m.\u001b[0m\u001b[0mconnect\u001b[0m\u001b[0;34m(\u001b[0m\u001b[0maddr\u001b[0m\u001b[0;34m)\u001b[0m\u001b[0;34m)\u001b[0m\u001b[0;34m\u001b[0m\u001b[0;34m\u001b[0m\u001b[0m\n\u001b[0m\u001b[1;32m    350\u001b[0m                     \u001b[0;31m# Break out of the loop on success\u001b[0m\u001b[0;34m\u001b[0m\u001b[0;34m\u001b[0m\u001b[0;34m\u001b[0m\u001b[0m\n\u001b[1;32m    351\u001b[0m                     \u001b[0;32mbreak\u001b[0m\u001b[0;34m\u001b[0m\u001b[0;34m\u001b[0m\u001b[0m\n",
      "\u001b[0;32m~/anaconda3/lib/python3.7/site-packages/paramiko/util.py\u001b[0m in \u001b[0;36mretry_on_signal\u001b[0;34m(function)\u001b[0m\n\u001b[1;32m    281\u001b[0m     \u001b[0;32mwhile\u001b[0m \u001b[0;32mTrue\u001b[0m\u001b[0;34m:\u001b[0m\u001b[0;34m\u001b[0m\u001b[0;34m\u001b[0m\u001b[0m\n\u001b[1;32m    282\u001b[0m         \u001b[0;32mtry\u001b[0m\u001b[0;34m:\u001b[0m\u001b[0;34m\u001b[0m\u001b[0;34m\u001b[0m\u001b[0m\n\u001b[0;32m--> 283\u001b[0;31m             \u001b[0;32mreturn\u001b[0m \u001b[0mfunction\u001b[0m\u001b[0;34m(\u001b[0m\u001b[0;34m)\u001b[0m\u001b[0;34m\u001b[0m\u001b[0;34m\u001b[0m\u001b[0m\n\u001b[0m\u001b[1;32m    284\u001b[0m         \u001b[0;32mexcept\u001b[0m \u001b[0mEnvironmentError\u001b[0m \u001b[0;32mas\u001b[0m \u001b[0me\u001b[0m\u001b[0;34m:\u001b[0m\u001b[0;34m\u001b[0m\u001b[0;34m\u001b[0m\u001b[0m\n\u001b[1;32m    285\u001b[0m             \u001b[0;32mif\u001b[0m \u001b[0me\u001b[0m\u001b[0;34m.\u001b[0m\u001b[0merrno\u001b[0m \u001b[0;34m!=\u001b[0m \u001b[0merrno\u001b[0m\u001b[0;34m.\u001b[0m\u001b[0mEINTR\u001b[0m\u001b[0;34m:\u001b[0m\u001b[0;34m\u001b[0m\u001b[0;34m\u001b[0m\u001b[0m\n",
      "\u001b[0;32m~/anaconda3/lib/python3.7/site-packages/paramiko/client.py\u001b[0m in \u001b[0;36m<lambda>\u001b[0;34m()\u001b[0m\n\u001b[1;32m    347\u001b[0m                         \u001b[0;32mexcept\u001b[0m\u001b[0;34m:\u001b[0m\u001b[0;34m\u001b[0m\u001b[0;34m\u001b[0m\u001b[0m\n\u001b[1;32m    348\u001b[0m                             \u001b[0;32mpass\u001b[0m\u001b[0;34m\u001b[0m\u001b[0;34m\u001b[0m\u001b[0m\n\u001b[0;32m--> 349\u001b[0;31m                     \u001b[0mretry_on_signal\u001b[0m\u001b[0;34m(\u001b[0m\u001b[0;32mlambda\u001b[0m\u001b[0;34m:\u001b[0m \u001b[0msock\u001b[0m\u001b[0;34m.\u001b[0m\u001b[0mconnect\u001b[0m\u001b[0;34m(\u001b[0m\u001b[0maddr\u001b[0m\u001b[0;34m)\u001b[0m\u001b[0;34m)\u001b[0m\u001b[0;34m\u001b[0m\u001b[0;34m\u001b[0m\u001b[0m\n\u001b[0m\u001b[1;32m    350\u001b[0m                     \u001b[0;31m# Break out of the loop on success\u001b[0m\u001b[0;34m\u001b[0m\u001b[0;34m\u001b[0m\u001b[0;34m\u001b[0m\u001b[0m\n\u001b[1;32m    351\u001b[0m                     \u001b[0;32mbreak\u001b[0m\u001b[0;34m\u001b[0m\u001b[0;34m\u001b[0m\u001b[0m\n",
      "\u001b[0;31mBlockingIOError\u001b[0m: [Errno 11] Resource temporarily unavailable"
     ]
    }
   ],
   "source": [
    "#  Creating\n",
    "print('Setting up EC2 instance, please wait...')\n",
    "print('Approx. waiting time: 2-5 mins')\n",
    "time.sleep(65)\n",
    "c.run('mkdir dbds_project')\n",
    "c.run('cd dbds_project && git clone https://github.com/hello2508/Database.git')"
   ]
  },
  {
   "cell_type": "code",
   "execution_count": null,
   "metadata": {},
   "outputs": [],
   "source": [
    "# Downloading the necessary packages\n",
    "print('Updating...')\n",
    "c.sudo('apt-get update')\n",
    "c.sudo('apt-get install python3')"
   ]
  },
  {
   "cell_type": "code",
   "execution_count": null,
   "metadata": {},
   "outputs": [],
   "source": [
    "# Install prerequisites before installing pip3\n",
    "c.sudo('apt-get -y install build-essential libssl-dev libffi-dev python-dev')\n",
    "c.sudo('apt-get update')\n",
    "c.sudo('apt -y install python3-pip')"
   ]
  },
  {
   "cell_type": "code",
   "execution_count": null,
   "metadata": {},
   "outputs": [],
   "source": [
    "# Create a virtual environment through Python3-venv\n",
    "print('Creating virtual environment(webenv) for web server...')\n",
    "c.sudo('apt install -y python3-venv')\n",
    "c.run('cd dbds_project/Database/flaskproject && python3 -m venv webvenv')\n",
    "time.sleep(5)\n",
    "c.run('cd dbds_project/Database/flaskproject && source ./webvenv/bin/activate')"
   ]
  },
  {
   "cell_type": "code",
   "execution_count": null,
   "metadata": {},
   "outputs": [],
   "source": [
    "# Get dependencies\n",
    "print('Installing relevant packages...')\n",
    "c.sudo('pip3 install --upgrade setuptools')\n",
    "c.sudo('apt-get -y install python3-dev libmysqlclient-dev')\n",
    "c.sudo('apt -y install libmpc-dev')\n",
    "c.run('pip3 install --user gmpy2==2.1.0a2')\n",
    "c.run('cd dbds_project/Database && pip3 install -r requirements.txt')\n",
    "c.sudo('pip3 install pymongo')\n",
    "c.sudo('apt-get install python3-mysql.connector')\n"
   ]
  },
  {
   "cell_type": "code",
   "execution_count": null,
   "metadata": {},
   "outputs": [],
   "source": [
    "# Running Flask (ensure this is running in the correct directory)\n",
    "time.sleep(3)\n",
    "print('Setting up web server...')\n",
    "print('Once completed, pls go to localhost:8888 to see the Web server.')\n",
    "c.run('cd dbds_project/Database/flaskproject && export FLASK_APP=app.py')\n",
    "c.run('cd dbds_project/Database/flaskproject && export FLASK_ENV=development')\n",
    "# c.run('cd dbds_project/Database/flaskproject && flask run')\n",
    "c.run('cd dbds_project/Database/flaskproject && python3 app.py')"
   ]
  },
  {
   "cell_type": "code",
   "execution_count": null,
   "metadata": {},
   "outputs": [],
   "source": []
  },
  {
   "cell_type": "code",
   "execution_count": null,
   "metadata": {},
   "outputs": [],
   "source": [
    "\n"
   ]
  },
  {
   "cell_type": "code",
   "execution_count": null,
   "metadata": {},
   "outputs": [],
   "source": []
  },
  {
   "cell_type": "code",
   "execution_count": null,
   "metadata": {},
   "outputs": [],
   "source": []
  },
  {
   "cell_type": "code",
   "execution_count": null,
   "metadata": {},
   "outputs": [],
   "source": []
  }
 ],
 "metadata": {
  "kernelspec": {
   "display_name": "Python 3",
   "language": "python",
   "name": "python3"
  },
  "language_info": {
   "codemirror_mode": {
    "name": "ipython",
    "version": 3
   },
   "file_extension": ".py",
   "mimetype": "text/x-python",
   "name": "python",
   "nbconvert_exporter": "python",
   "pygments_lexer": "ipython3",
   "version": "3.7.5"
  }
 },
 "nbformat": 4,
 "nbformat_minor": 2
}
